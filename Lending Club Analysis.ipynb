{
 "cells": [
  {
   "cell_type": "code",
   "execution_count": 1,
   "metadata": {
    "collapsed": true
   },
   "outputs": [],
   "source": [
    "import pandas as pd\n",
    "import numpy as np\n",
    "import matplotlib.pyplot as plt\n",
    "plt.style.use('fivethirtyeight')\n",
    "import seaborn as sns\n",
    "from wordcloud import WordCloud, STOPWORDS\n",
    "%matplotlib inline\n",
    "pd.set_option('display.max_rows', 200)"
   ]
  },
  {
   "cell_type": "markdown",
   "metadata": {},
   "source": [
    "### Read in loan data from 2007 to 2015. The data has been split into 21 different files so that they can pushed to Github"
   ]
  },
  {
   "cell_type": "code",
   "execution_count": 2,
   "metadata": {
    "collapsed": true
   },
   "outputs": [],
   "source": [
    "def read_loan_data():\n",
    "    \"\"\"Read in data from 21 files and concatentate into one dataframe\"\"\"\n",
    "    dataframes = []\n",
    "    for i in range(21):\n",
    "        filename = './data/LoanStats_2007_to_2015_' + str(i) + '.csv'\n",
    "        df = pd.read_csv(filename, low_memory=False)\n",
    "        dataframes.append(df)\n",
    "    loans = pd.concat(dataframes)\n",
    "    return loans"
   ]
  },
  {
   "cell_type": "code",
   "execution_count": 3,
   "metadata": {
    "collapsed": true
   },
   "outputs": [],
   "source": [
    "loans = read_loan_data()"
   ]
  },
  {
   "cell_type": "code",
   "execution_count": 4,
   "metadata": {},
   "outputs": [
    {
     "data": {
      "text/plain": [
       "(887449, 143)"
      ]
     },
     "execution_count": 4,
     "metadata": {},
     "output_type": "execute_result"
    }
   ],
   "source": [
    "loans.shape"
   ]
  },
  {
   "cell_type": "code",
   "execution_count": 5,
   "metadata": {},
   "outputs": [
    {
     "data": {
      "text/html": [
       "<div>\n",
       "<style>\n",
       "    .dataframe thead tr:only-child th {\n",
       "        text-align: right;\n",
       "    }\n",
       "\n",
       "    .dataframe thead th {\n",
       "        text-align: left;\n",
       "    }\n",
       "\n",
       "    .dataframe tbody tr th {\n",
       "        vertical-align: top;\n",
       "    }\n",
       "</style>\n",
       "<table border=\"1\" class=\"dataframe\">\n",
       "  <thead>\n",
       "    <tr style=\"text-align: right;\">\n",
       "      <th></th>\n",
       "      <th>id</th>\n",
       "      <th>member_id</th>\n",
       "      <th>loan_amnt</th>\n",
       "      <th>funded_amnt</th>\n",
       "      <th>funded_amnt_inv</th>\n",
       "      <th>term</th>\n",
       "      <th>int_rate</th>\n",
       "      <th>installment</th>\n",
       "      <th>grade</th>\n",
       "      <th>sub_grade</th>\n",
       "      <th>...</th>\n",
       "      <th>hardship_amount</th>\n",
       "      <th>hardship_start_date</th>\n",
       "      <th>hardship_end_date</th>\n",
       "      <th>payment_plan_start_date</th>\n",
       "      <th>hardship_length</th>\n",
       "      <th>hardship_dpd</th>\n",
       "      <th>hardship_loan_status</th>\n",
       "      <th>orig_projected_additional_accrued_interest</th>\n",
       "      <th>hardship_payoff_balance_amount</th>\n",
       "      <th>hardship_last_payment_amount</th>\n",
       "    </tr>\n",
       "  </thead>\n",
       "  <tbody>\n",
       "    <tr>\n",
       "      <th>0</th>\n",
       "      <td>1077501</td>\n",
       "      <td>NaN</td>\n",
       "      <td>5000.0</td>\n",
       "      <td>5000.0</td>\n",
       "      <td>4975.0</td>\n",
       "      <td>36 months</td>\n",
       "      <td>10.65%</td>\n",
       "      <td>162.87</td>\n",
       "      <td>B</td>\n",
       "      <td>B2</td>\n",
       "      <td>...</td>\n",
       "      <td>NaN</td>\n",
       "      <td>NaN</td>\n",
       "      <td>NaN</td>\n",
       "      <td>NaN</td>\n",
       "      <td>NaN</td>\n",
       "      <td>NaN</td>\n",
       "      <td>NaN</td>\n",
       "      <td>NaN</td>\n",
       "      <td>NaN</td>\n",
       "      <td>NaN</td>\n",
       "    </tr>\n",
       "    <tr>\n",
       "      <th>1</th>\n",
       "      <td>1077430</td>\n",
       "      <td>NaN</td>\n",
       "      <td>2500.0</td>\n",
       "      <td>2500.0</td>\n",
       "      <td>2500.0</td>\n",
       "      <td>60 months</td>\n",
       "      <td>15.27%</td>\n",
       "      <td>59.83</td>\n",
       "      <td>C</td>\n",
       "      <td>C4</td>\n",
       "      <td>...</td>\n",
       "      <td>NaN</td>\n",
       "      <td>NaN</td>\n",
       "      <td>NaN</td>\n",
       "      <td>NaN</td>\n",
       "      <td>NaN</td>\n",
       "      <td>NaN</td>\n",
       "      <td>NaN</td>\n",
       "      <td>NaN</td>\n",
       "      <td>NaN</td>\n",
       "      <td>NaN</td>\n",
       "    </tr>\n",
       "    <tr>\n",
       "      <th>2</th>\n",
       "      <td>1077175</td>\n",
       "      <td>NaN</td>\n",
       "      <td>2400.0</td>\n",
       "      <td>2400.0</td>\n",
       "      <td>2400.0</td>\n",
       "      <td>36 months</td>\n",
       "      <td>15.96%</td>\n",
       "      <td>84.33</td>\n",
       "      <td>C</td>\n",
       "      <td>C5</td>\n",
       "      <td>...</td>\n",
       "      <td>NaN</td>\n",
       "      <td>NaN</td>\n",
       "      <td>NaN</td>\n",
       "      <td>NaN</td>\n",
       "      <td>NaN</td>\n",
       "      <td>NaN</td>\n",
       "      <td>NaN</td>\n",
       "      <td>NaN</td>\n",
       "      <td>NaN</td>\n",
       "      <td>NaN</td>\n",
       "    </tr>\n",
       "    <tr>\n",
       "      <th>3</th>\n",
       "      <td>1076863</td>\n",
       "      <td>NaN</td>\n",
       "      <td>10000.0</td>\n",
       "      <td>10000.0</td>\n",
       "      <td>10000.0</td>\n",
       "      <td>36 months</td>\n",
       "      <td>13.49%</td>\n",
       "      <td>339.31</td>\n",
       "      <td>C</td>\n",
       "      <td>C1</td>\n",
       "      <td>...</td>\n",
       "      <td>NaN</td>\n",
       "      <td>NaN</td>\n",
       "      <td>NaN</td>\n",
       "      <td>NaN</td>\n",
       "      <td>NaN</td>\n",
       "      <td>NaN</td>\n",
       "      <td>NaN</td>\n",
       "      <td>NaN</td>\n",
       "      <td>NaN</td>\n",
       "      <td>NaN</td>\n",
       "    </tr>\n",
       "    <tr>\n",
       "      <th>4</th>\n",
       "      <td>1075358</td>\n",
       "      <td>NaN</td>\n",
       "      <td>3000.0</td>\n",
       "      <td>3000.0</td>\n",
       "      <td>3000.0</td>\n",
       "      <td>60 months</td>\n",
       "      <td>12.69%</td>\n",
       "      <td>67.79</td>\n",
       "      <td>B</td>\n",
       "      <td>B5</td>\n",
       "      <td>...</td>\n",
       "      <td>NaN</td>\n",
       "      <td>NaN</td>\n",
       "      <td>NaN</td>\n",
       "      <td>NaN</td>\n",
       "      <td>NaN</td>\n",
       "      <td>NaN</td>\n",
       "      <td>NaN</td>\n",
       "      <td>NaN</td>\n",
       "      <td>NaN</td>\n",
       "      <td>NaN</td>\n",
       "    </tr>\n",
       "  </tbody>\n",
       "</table>\n",
       "<p>5 rows × 143 columns</p>\n",
       "</div>"
      ],
      "text/plain": [
       "        id  member_id  loan_amnt  funded_amnt  funded_amnt_inv        term  \\\n",
       "0  1077501        NaN     5000.0       5000.0           4975.0   36 months   \n",
       "1  1077430        NaN     2500.0       2500.0           2500.0   60 months   \n",
       "2  1077175        NaN     2400.0       2400.0           2400.0   36 months   \n",
       "3  1076863        NaN    10000.0      10000.0          10000.0   36 months   \n",
       "4  1075358        NaN     3000.0       3000.0           3000.0   60 months   \n",
       "\n",
       "  int_rate  installment grade sub_grade             ...               \\\n",
       "0   10.65%       162.87     B        B2             ...                \n",
       "1   15.27%        59.83     C        C4             ...                \n",
       "2   15.96%        84.33     C        C5             ...                \n",
       "3   13.49%       339.31     C        C1             ...                \n",
       "4   12.69%        67.79     B        B5             ...                \n",
       "\n",
       "  hardship_amount hardship_start_date hardship_end_date  \\\n",
       "0             NaN                 NaN               NaN   \n",
       "1             NaN                 NaN               NaN   \n",
       "2             NaN                 NaN               NaN   \n",
       "3             NaN                 NaN               NaN   \n",
       "4             NaN                 NaN               NaN   \n",
       "\n",
       "   payment_plan_start_date hardship_length hardship_dpd hardship_loan_status  \\\n",
       "0                      NaN             NaN          NaN                  NaN   \n",
       "1                      NaN             NaN          NaN                  NaN   \n",
       "2                      NaN             NaN          NaN                  NaN   \n",
       "3                      NaN             NaN          NaN                  NaN   \n",
       "4                      NaN             NaN          NaN                  NaN   \n",
       "\n",
       "  orig_projected_additional_accrued_interest hardship_payoff_balance_amount  \\\n",
       "0                                        NaN                            NaN   \n",
       "1                                        NaN                            NaN   \n",
       "2                                        NaN                            NaN   \n",
       "3                                        NaN                            NaN   \n",
       "4                                        NaN                            NaN   \n",
       "\n",
       "  hardship_last_payment_amount  \n",
       "0                          NaN  \n",
       "1                          NaN  \n",
       "2                          NaN  \n",
       "3                          NaN  \n",
       "4                          NaN  \n",
       "\n",
       "[5 rows x 143 columns]"
      ]
     },
     "execution_count": 5,
     "metadata": {},
     "output_type": "execute_result"
    }
   ],
   "source": [
    "loans.head()"
   ]
  },
  {
   "cell_type": "markdown",
   "metadata": {},
   "source": [
    "## Some exploratory data analysis"
   ]
  },
  {
   "cell_type": "markdown",
   "metadata": {},
   "source": [
    "### What kind of interest rate are borrowers paying?"
   ]
  },
  {
   "cell_type": "code",
   "execution_count": 6,
   "metadata": {
    "collapsed": true
   },
   "outputs": [],
   "source": [
    "# Remove 9 loans with missing interest rates. These were never funded\n",
    "loans = loans[loans.int_rate.notnull()]"
   ]
  },
  {
   "cell_type": "code",
   "execution_count": 7,
   "metadata": {
    "collapsed": true
   },
   "outputs": [],
   "source": [
    "# Strip out % and convert to float\n",
    "loans.int_rate = loans.int_rate.apply(lambda x: float(x.rstrip('%')))"
   ]
  },
  {
   "cell_type": "code",
   "execution_count": 8,
   "metadata": {},
   "outputs": [
    {
     "data": {
      "text/plain": [
       "count    887440.000000\n",
       "mean         13.245705\n",
       "std           4.382385\n",
       "min           5.320000\n",
       "25%           9.990000\n",
       "50%          12.990000\n",
       "75%          16.200000\n",
       "max          28.990000\n",
       "Name: int_rate, dtype: float64"
      ]
     },
     "execution_count": 8,
     "metadata": {},
     "output_type": "execute_result"
    }
   ],
   "source": [
    "loans.int_rate.describe()"
   ]
  },
  {
   "cell_type": "code",
   "execution_count": 9,
   "metadata": {},
   "outputs": [
    {
     "data": {
      "image/png": "[encoded data removed]",
      "text/plain": [
       "<matplotlib.figure.Figure at 0x135510790>"
      ]
     },
     "metadata": {},
     "output_type": "display_data"
    }
   ],
   "source": [
    "sns.distplot(loans.int_rate, axlabel='Interest Rate');"
   ]
  },
  {
   "cell_type": "markdown",
   "metadata": {},
   "source": [
    "### How long are the loan terms?"
   ]
  },
  {
   "cell_type": "code",
   "execution_count": 10,
   "metadata": {},
   "outputs": [
    {
     "data": {
      "text/plain": [
       " 36 months    621169\n",
       " 60 months    266271\n",
       "Name: term, dtype: int64"
      ]
     },
     "execution_count": 10,
     "metadata": {},
     "output_type": "execute_result"
    }
   ],
   "source": [
    "loans.term.value_counts()"
   ]
  },
  {
   "cell_type": "code",
   "execution_count": 11,
   "metadata": {},
   "outputs": [
    {
     "data": {
      "image/png": "[encoded data removed]",
      "text/plain": [
       "<matplotlib.figure.Figure at 0x1355109d0>"
      ]
     },
     "metadata": {},
     "output_type": "display_data"
    }
   ],
   "source": [
    "loans.term.value_counts().plot(kind='pie', fontsize=16);"
   ]
  },
  {
   "cell_type": "markdown",
   "metadata": {},
   "source": [
    "### How much are people borrowing?"
   ]
  },
  {
   "cell_type": "code",
   "execution_count": 12,
   "metadata": {},
   "outputs": [
    {
     "data": {
      "text/plain": [
       "count    887440.000000\n",
       "mean      14755.167673\n",
       "std        8435.379336\n",
       "min         500.000000\n",
       "25%        8000.000000\n",
       "50%       13000.000000\n",
       "75%       20000.000000\n",
       "max       35000.000000\n",
       "Name: loan_amnt, dtype: float64"
      ]
     },
     "execution_count": 12,
     "metadata": {},
     "output_type": "execute_result"
    }
   ],
   "source": [
    "loans.loan_amnt.describe()"
   ]
  },
  {
   "cell_type": "code",
   "execution_count": 13,
   "metadata": {},
   "outputs": [
    {
     "data": {
      "image/png": "[encoded data removed]",
      "text/plain": [
       "<matplotlib.figure.Figure at 0x11dab2790>"
      ]
     },
     "metadata": {},
     "output_type": "display_data"
    }
   ],
   "source": [
    "loans.loan_amnt.plot(kind='hist', bins=20, x='Loan Amount');"
   ]
  },
  {
   "cell_type": "markdown",
   "metadata": {},
   "source": [
    "Seems like people like to round up to multiples of 5k such as 10k and 15k when applying."
   ]
  },
  {
   "cell_type": "markdown",
   "metadata": {},
   "source": [
    "### What are people taking these loans out for?"
   ]
  },
  {
   "cell_type": "code",
   "execution_count": 14,
   "metadata": {},
   "outputs": [
    {
     "data": {
      "text/plain": [
       "debt_consolidation    524253\n",
       "credit_card           206194\n",
       "home_improvement       51834\n",
       "other                  42896\n",
       "major_purchase         17277\n",
       "small_business         10378\n",
       "car                     8864\n",
       "medical                 8541\n",
       "moving                  5415\n",
       "vacation                4736\n",
       "house                   3707\n",
       "wedding                 2347\n",
       "renewable_energy         575\n",
       "educational              423\n",
       "Name: purpose, dtype: int64"
      ]
     },
     "execution_count": 14,
     "metadata": {},
     "output_type": "execute_result"
    }
   ],
   "source": [
    "purposes = loans.purpose.value_counts()\n",
    "purposes"
   ]
  },
  {
   "cell_type": "code",
   "execution_count": 15,
   "metadata": {},
   "outputs": [
    {
     "data": {
      "image/png": "[encoded data removed]",
      "text/plain": [
       "<matplotlib.figure.Figure at 0x11e50c4d0>"
      ]
     },
     "metadata": {},
     "output_type": "display_data"
    }
   ],
   "source": [
    "purposes.plot.barh(figsize=(15, 5));"
   ]
  },
  {
   "cell_type": "code",
   "execution_count": 16,
   "metadata": {},
   "outputs": [
    {
     "data": {
      "image/png": "[encoded data removed]",
      "text/plain": [
       "<matplotlib.figure.Figure at 0x11da5abd0>"
      ]
     },
     "metadata": {},
     "output_type": "display_data"
    }
   ],
   "source": [
    "titles = loans.title.str.cat(sep=',')\n",
    "wordcloud = WordCloud(stopwords=STOPWORDS, background_color='white', max_font_size=40, relative_scaling=0.5)\n",
    "wordcloud.generate(titles)\n",
    "plt.figure(figsize=(12, 6))\n",
    "plt.imshow(wordcloud)\n",
    "plt.axis(\"off\")\n",
    "plt.show()"
   ]
  },
  {
   "cell_type": "markdown",
   "metadata": {},
   "source": [
    "### Are the borrowers renters or homeowners?"
   ]
  },
  {
   "cell_type": "code",
   "execution_count": 17,
   "metadata": {},
   "outputs": [
    {
     "data": {
      "text/plain": [
       "MORTGAGE    443591\n",
       "RENT        356136\n",
       "OWN          87478\n",
       "OTHER          182\n",
       "NONE            50\n",
       "ANY              3\n",
       "Name: home_ownership, dtype: int64"
      ]
     },
     "execution_count": 17,
     "metadata": {},
     "output_type": "execute_result"
    }
   ],
   "source": [
    "loans.home_ownership.value_counts()"
   ]
  },
  {
   "cell_type": "code",
   "execution_count": 18,
   "metadata": {
    "collapsed": true
   },
   "outputs": [],
   "source": [
    "loans.loc[(loans.home_ownership == 'ANY') | (loans.home_ownership == 'NONE'), 'home_ownership'] = 'OTHER'"
   ]
  },
  {
   "cell_type": "code",
   "execution_count": 19,
   "metadata": {},
   "outputs": [
    {
     "data": {
      "image/png": "[encoded data removed]",
      "text/plain": [
       "<matplotlib.figure.Figure at 0x11e61b210>"
      ]
     },
     "metadata": {},
     "output_type": "display_data"
    }
   ],
   "source": [
    "loans.home_ownership.value_counts().plot(kind='pie', fontsize=16);"
   ]
  },
  {
   "cell_type": "markdown",
   "metadata": {},
   "source": [
    "### LendingClub rates their loans from A to G, with subgrades 1 to 5"
   ]
  },
  {
   "cell_type": "code",
   "execution_count": 20,
   "metadata": {},
   "outputs": [
    {
     "data": {
      "image/png": "[encoded data removed]",
      "text/plain": [
       "<matplotlib.figure.Figure at 0x1264eead0>"
      ]
     },
     "metadata": {},
     "output_type": "display_data"
    }
   ],
   "source": [
    "loans.grade.value_counts().sort_index(ascending=False).plot(kind='barh', fontsize=16);"
   ]
  },
  {
   "cell_type": "code",
   "execution_count": 21,
   "metadata": {},
   "outputs": [
    {
     "data": {
      "image/png": "[encoded data removed]",
      "text/plain": [
       "<matplotlib.figure.Figure at 0x118c7a6d0>"
      ]
     },
     "metadata": {},
     "output_type": "display_data"
    }
   ],
   "source": [
    "loans.sub_grade.value_counts().sort_index().plot(kind='bar', fontsize=16, figsize=(12, 4));"
   ]
  },
  {
   "cell_type": "markdown",
   "metadata": {},
   "source": [
    "### Where do these borrowers live?"
   ]
  },
  {
   "cell_type": "code",
   "execution_count": null,
   "metadata": {
    "collapsed": true
   },
   "outputs": [],
   "source": [
    "loans.addr_state.value_counts() #  51 states including DC as it's own"
   ]
  },
  {
   "cell_type": "code",
   "execution_count": null,
   "metadata": {
    "collapsed": true
   },
   "outputs": [],
   "source": [
    "loans.zip_code.value_counts()"
   ]
  },
  {
   "cell_type": "code",
   "execution_count": null,
   "metadata": {
    "collapsed": true
   },
   "outputs": [],
   "source": [
    "import vincent\n",
    "vincent.core.initialize_notebook()"
   ]
  },
  {
   "cell_type": "code",
   "execution_count": null,
   "metadata": {
    "collapsed": true
   },
   "outputs": [],
   "source": [
    "\"\"\"\n",
    "import json\n",
    "with open('maps/us_counties.topo.json') as counties_file:    \n",
    "    county_topo = json.load(counties_file)\n",
    "with open('maps/us_states.topo.json') as states_file:\n",
    "    state_topo = json.load(states_file)\n",
    "geo_data = [{'name': 'counties',\n",
    "             'url': county_topo,\n",
    "             'feature': 'us_counties.geo'},\n",
    "            {'name': 'states',\n",
    "             'url': state_topo,\n",
    "             'feature': 'us_states.geo'}\n",
    "             ]\n",
    "\n",
    "vis = vincent.Map(geo_data=geo_data, scale=200)\n",
    "\"\"\""
   ]
  },
  {
   "cell_type": "markdown",
   "metadata": {},
   "source": [
    "### We want to predict whether a borrower will default or not"
   ]
  },
  {
   "cell_type": "code",
   "execution_count": 22,
   "metadata": {},
   "outputs": [
    {
     "data": {
      "text/plain": [
       "Fully Paid                                             453555\n",
       "Current                                                295717\n",
       "Charged Off                                            116280\n",
       "Late (31-120 days)                                      10079\n",
       "In Grace Period                                          6513\n",
       "Late (16-30 days)                                        2536\n",
       "Does not meet the credit policy. Status:Fully Paid       1988\n",
       "Does not meet the credit policy. Status:Charged Off       761\n",
       "Default                                                    11\n",
       "Name: loan_status, dtype: int64"
      ]
     },
     "execution_count": 22,
     "metadata": {},
     "output_type": "execute_result"
    }
   ],
   "source": [
    "loans.loan_status.value_counts()"
   ]
  },
  {
   "cell_type": "code",
   "execution_count": 23,
   "metadata": {
    "collapsed": true
   },
   "outputs": [],
   "source": [
    "loans['defaulted'] = loans.loan_status.map({'Fully Paid': 0,\n",
    "                                            'Current': 0,\n",
    "                                            'Charged Off': 1,\n",
    "                                            'Late (31-120 days)': 1,\n",
    "                                            'In Grace Period': 0,\n",
    "                                            'Late (16-30 days)': 0,\n",
    "                                            'Does not meet the credit policy. Status:Fully Paid': 0,\n",
    "                                            'Does not meet the credit policy. Status:Charged Off': 1,\n",
    "                                            'Default': 1\n",
    "                                           })"
   ]
  },
  {
   "cell_type": "code",
   "execution_count": 24,
   "metadata": {
    "collapsed": true
   },
   "outputs": [],
   "source": [
    "loans = loans.drop('loan_status', axis=1)"
   ]
  },
  {
   "cell_type": "markdown",
   "metadata": {},
   "source": [
    "### What are our predictors?"
   ]
  },
  {
   "cell_type": "code",
   "execution_count": 25,
   "metadata": {
    "collapsed": true
   },
   "outputs": [],
   "source": [
    "# Member id and loan URL can be removed\n",
    "loans = loans.drop(['url', 'member_id'], axis=1)"
   ]
  },
  {
   "cell_type": "code",
   "execution_count": 26,
   "metadata": {},
   "outputs": [
    {
     "data": {
      "text/plain": [
       "INDIVIDUAL    886929\n",
       "JOINT            511\n",
       "Name: application_type, dtype: int64"
      ]
     },
     "execution_count": 26,
     "metadata": {},
     "output_type": "execute_result"
    }
   ],
   "source": [
    "loans.application_type.value_counts()"
   ]
  },
  {
   "cell_type": "code",
   "execution_count": 27,
   "metadata": {
    "collapsed": true
   },
   "outputs": [],
   "source": [
    "# Since there are only 511 Joint accounts, let's remove them to simplify our analysis\n",
    "loans = loans[loans.application_type == 'INDIVIDUAL']\n",
    "joint_app_columns = ['revol_bal_joint', 'annual_inc_joint', 'dti_joint', 'verification_status_joint',\n",
    "                     'sec_app_num_rev_accts', 'sec_app_mths_since_last_major_derog', 'sec_app_fico_range_high',\n",
    "                     'sec_app_earliest_cr_line', 'sec_app_inq_last_6mths', 'sec_app_mort_acc', 'sec_app_open_acc',\n",
    "                     'sec_app_revol_util', 'sec_app_open_il_6m', 'sec_app_chargeoff_within_12_mths',\n",
    "                     'sec_app_collections_12_mths_ex_med', 'sec_app_fico_range_low']\n",
    "loans = loans.drop(joint_app_columns, axis=1)"
   ]
  },
  {
   "cell_type": "code",
   "execution_count": 28,
   "metadata": {
    "collapsed": true
   },
   "outputs": [],
   "source": [
    "# Remove policy code since it is 1 for all rows\n",
    "loans = loans.drop('policy_code', axis=1)"
   ]
  },
  {
   "cell_type": "code",
   "execution_count": 29,
   "metadata": {
    "collapsed": true
   },
   "outputs": [],
   "source": [
    "# last_credit_pull_d => The most recent month LC pulled credit for this loan. Remove since it's irrelevant\n",
    "loans = loans.drop('last_credit_pull_d', axis=1)"
   ]
  },
  {
   "cell_type": "code",
   "execution_count": 30,
   "metadata": {
    "collapsed": true
   },
   "outputs": [],
   "source": [
    "# Fico is pulled multiple times while loan is being invested. Take the mean of high and low\n",
    "loans['fico'] = (loans.fico_range_low + loans.fico_range_high) / 2\n",
    "loans = loans.drop(['fico_range_low', 'fico_range_high'], axis=1)"
   ]
  },
  {
   "cell_type": "code",
   "execution_count": 31,
   "metadata": {},
   "outputs": [
    {
     "data": {
      "text/plain": [
       "orig_projected_additional_accrued_interest    886374\n",
       "hardship_status                               886297\n",
       "payment_plan_start_date                       886297\n",
       "hardship_type                                 886297\n",
       "hardship_reason                               886297\n",
       "deferral_term                                 886297\n",
       "hardship_amount                               886297\n",
       "hardship_end_date                             886297\n",
       "hardship_start_date                           886297\n",
       "hardship_length                               886297\n",
       "hardship_dpd                                  886297\n",
       "hardship_loan_status                          886297\n",
       "hardship_payoff_balance_amount                886297\n",
       "hardship_last_payment_amount                  886297\n",
       "il_util                                       868453\n",
       "mths_since_rcnt_il                            866281\n",
       "total_bal_il                                  865720\n",
       "open_il_6m                                    865720\n",
       "open_il_12m                                   865720\n",
       "open_il_24m                                   865720\n",
       "open_rv_12m                                   865720\n",
       "inq_last_12m                                  865720\n",
       "total_cu_tl                                   865720\n",
       "inq_fi                                        865720\n",
       "all_util                                      865720\n",
       "max_bal_bc                                    865720\n",
       "open_acc_6m                                   865720\n",
       "open_rv_24m                                   865720\n",
       "desc                                          760884\n",
       "mths_since_last_record                        749981\n",
       "mths_since_recent_bc_dlq                      679435\n",
       "mths_since_last_major_derog                   665353\n",
       "mths_since_recent_revol_delinq                596167\n",
       "next_pymnt_d                                  569676\n",
       "mths_since_last_delinq                        454110\n",
       "mths_since_recent_inq                         136655\n",
       "num_tl_120dpd_2m                               97622\n",
       "mo_sin_old_il_acct                             95825\n",
       "pct_tl_nvr_dlq                                 70429\n",
       "avg_cur_bal                                    70288\n",
       "num_rev_accts                                  70277\n",
       "mo_sin_rcnt_rev_tl_op                          70277\n",
       "mo_sin_old_rev_tl_op                           70277\n",
       "num_tl_op_past_12m                             70276\n",
       "tot_hi_cred_lim                                70276\n",
       "total_rev_hi_lim                               70276\n",
       "total_il_high_credit_limit                     70276\n",
       "tot_coll_amt                                   70276\n",
       "mo_sin_rcnt_tl                                 70276\n",
       "num_tl_90g_dpd_24m                             70276\n",
       "tot_cur_bal                                    70276\n",
       "num_accts_ever_120_pd                          70276\n",
       "num_actv_bc_tl                                 70276\n",
       "num_actv_rev_tl                                70276\n",
       "num_bc_tl                                      70276\n",
       "num_il_tl                                      70276\n",
       "num_op_rev_tl                                  70276\n",
       "num_tl_30dpd                                   70276\n",
       "num_rev_tl_bal_gt_0                            70276\n",
       "num_sats                                       58590\n",
       "num_bc_sats                                    58590\n",
       "bc_util                                        58475\n",
       "percent_bc_gt_75                               58349\n",
       "bc_open_to_buy                                 57958\n",
       "mths_since_recent_bc                           57398\n",
       "emp_title                                      51407\n",
       "total_bal_ex_mort                              50030\n",
       "acc_open_past_24mths                           50030\n",
       "total_bc_limit                                 50030\n",
       "mort_acc                                       50030\n",
       "pub_rec_bankruptcies                            1365\n",
       "last_pymnt_d                                     670\n",
       "revol_util                                       502\n",
       "chargeoff_within_12_mths                         145\n",
       "collections_12_mths_ex_med                       145\n",
       "title                                            142\n",
       "tax_liens                                        105\n",
       "pub_rec                                           29\n",
       "open_acc                                          29\n",
       "inq_last_6mths                                    29\n",
       "earliest_cr_line                                  29\n",
       "acc_now_delinq                                    29\n",
       "delinq_amnt                                       29\n",
       "delinq_2yrs                                       29\n",
       "total_acc                                         29\n",
       "annual_inc                                         4\n",
       "loan_amnt                                          0\n",
       "purpose                                            0\n",
       "funded_amnt                                        0\n",
       "pymnt_plan                                         0\n",
       "issue_d                                            0\n",
       "verification_status                                0\n",
       "home_ownership                                     0\n",
       "emp_length                                         0\n",
       "grade                                              0\n",
       "installment                                        0\n",
       "int_rate                                           0\n",
       "term                                               0\n",
       "funded_amnt_inv                                    0\n",
       "zip_code                                           0\n",
       "sub_grade                                          0\n",
       "fico                                               0\n",
       "addr_state                                         0\n",
       "dti                                                0\n",
       "hardship_flag                                      0\n",
       "defaulted                                          0\n",
       "application_type                                   0\n",
       "last_fico_range_low                                0\n",
       "last_fico_range_high                               0\n",
       "last_pymnt_amnt                                    0\n",
       "collection_recovery_fee                            0\n",
       "recoveries                                         0\n",
       "total_rec_late_fee                                 0\n",
       "total_rec_int                                      0\n",
       "total_rec_prncp                                    0\n",
       "total_pymnt_inv                                    0\n",
       "total_pymnt                                        0\n",
       "out_prncp_inv                                      0\n",
       "out_prncp                                          0\n",
       "initial_list_status                                0\n",
       "revol_bal                                          0\n",
       "id                                                 0\n",
       "dtype: int64"
      ]
     },
     "execution_count": 31,
     "metadata": {},
     "output_type": "execute_result"
    }
   ],
   "source": [
    "# Find all the columns with null values\n",
    "loans.isnull().sum().sort_values(ascending=False)"
   ]
  },
  {
   "cell_type": "code",
   "execution_count": null,
   "metadata": {},
   "outputs": [],
   "source": [
    "# Hardship program allows borrowers who had an unexpected life event make interest only payments. Since it was\n",
    "# introduced recently in May, 2017, it only affects some current loans. So it's best to remove those columns.\n",
    "hardship_columns = ['orig_projected_additional_accrued_interest', 'hardship_status', 'payment_plan_start_date',\n",
    "                   'hardship_type', 'hardship_reason', 'deferral_term', 'hardship_amount', 'hardship_end_date',\n",
    "                   'hardship_start_date', 'hardship_length', 'hardship_dpd', 'hardship_loan_status',\n",
    "                   'hardship_payoff_balance_amount', 'hardship_last_payment_amount', 'hardship_flag']\n",
    "loans.hardship_flag.dtype"
   ]
  },
  {
   "cell_type": "code",
   "execution_count": 35,
   "metadata": {},
   "outputs": [
    {
     "data": {
      "text/plain": [
       "N    886431\n",
       "Y       498\n",
       "Name: hardship_flag, dtype: int64"
      ]
     },
     "execution_count": 35,
     "metadata": {},
     "output_type": "execute_result"
    }
   ],
   "source": [
    "loans = loans.drop(joint_app_columns, axis=1)"
   ]
  },
  {
   "cell_type": "markdown",
   "metadata": {},
   "source": [
    "We should drop hardship columns because they are introduced in 2016 or 2017."
   ]
  },
  {
   "cell_type": "markdown",
   "metadata": {},
   "source": [
    "### Lots of null values, drop columns where 80% or more of the values are null"
   ]
  },
  {
   "cell_type": "code",
   "execution_count": null,
   "metadata": {
    "collapsed": true
   },
   "outputs": [],
   "source": [
    "num_rows = loans.shape[0]\n",
    "threshold = int(num_rows * 0.8)\n",
    "loans = loans.dropna(axis=1, thresh=threshold)\n",
    "loans.shape"
   ]
  },
  {
   "cell_type": "code",
   "execution_count": null,
   "metadata": {
    "collapsed": true
   },
   "outputs": [],
   "source": [
    "loans.loan_status.value_counts()"
   ]
  },
  {
   "cell_type": "code",
   "execution_count": null,
   "metadata": {
    "collapsed": true
   },
   "outputs": [],
   "source": []
  },
  {
   "cell_type": "code",
   "execution_count": null,
   "metadata": {
    "collapsed": true
   },
   "outputs": [],
   "source": [
    "null_value_count = loans.isnull().sum().sort_values(ascending=False)"
   ]
  },
  {
   "cell_type": "code",
   "execution_count": null,
   "metadata": {
    "collapsed": true
   },
   "outputs": [],
   "source": []
  },
  {
   "cell_type": "code",
   "execution_count": null,
   "metadata": {
    "collapsed": true
   },
   "outputs": [],
   "source": []
  },
  {
   "cell_type": "code",
   "execution_count": null,
   "metadata": {
    "collapsed": true
   },
   "outputs": [],
   "source": []
  },
  {
   "cell_type": "code",
   "execution_count": null,
   "metadata": {
    "collapsed": true
   },
   "outputs": [],
   "source": [
    "cutoff = 887449 * 0.8;\n",
    "columns_to_remove = []\n",
    "for column, null_values in null_value_count.iteritems():\n",
    "    if null_values > cutoff:\n",
    "        columns_to_remove.append(column)\n",
    "        print column, null_values"
   ]
  },
  {
   "cell_type": "code",
   "execution_count": null,
   "metadata": {
    "collapsed": true
   },
   "outputs": [],
   "source": [
    "loans.desc.head()"
   ]
  },
  {
   "cell_type": "code",
   "execution_count": null,
   "metadata": {
    "collapsed": true
   },
   "outputs": [],
   "source": [
    "loans.url.head()"
   ]
  },
  {
   "cell_type": "code",
   "execution_count": null,
   "metadata": {
    "collapsed": true
   },
   "outputs": [],
   "source": [
    "loans.title.head(100)"
   ]
  },
  {
   "cell_type": "code",
   "execution_count": null,
   "metadata": {
    "collapsed": true
   },
   "outputs": [],
   "source": [
    "cutoff = loans.shape[0] * 0.8;\n",
    "df = loans.dropna(axis=1, thresh=cutoff)\n",
    "df.shape"
   ]
  },
  {
   "cell_type": "code",
   "execution_count": null,
   "metadata": {
    "collapsed": true
   },
   "outputs": [],
   "source": [
    "df.columns"
   ]
  },
  {
   "cell_type": "code",
   "execution_count": null,
   "metadata": {
    "collapsed": true
   },
   "outputs": [],
   "source": [
    "loans.application_type.value_counts()"
   ]
  },
  {
   "cell_type": "code",
   "execution_count": null,
   "metadata": {
    "collapsed": true
   },
   "outputs": [],
   "source": [
    "loans['fico'] = (loans.fico_range_low + loans.fico_range_high) / 2"
   ]
  },
  {
   "cell_type": "code",
   "execution_count": null,
   "metadata": {
    "collapsed": true
   },
   "outputs": [],
   "source": [
    "loans.loc[:, ['fico_range_low', 'fico_range_high', 'fico']].head(20)"
   ]
  },
  {
   "cell_type": "code",
   "execution_count": null,
   "metadata": {
    "collapsed": true
   },
   "outputs": [],
   "source": [
    "loans = loans.drop(['fico_range', 'fico_range_low', 'fico_range_high'], axis=1)"
   ]
  },
  {
   "cell_type": "code",
   "execution_count": null,
   "metadata": {
    "collapsed": true
   },
   "outputs": [],
   "source": [
    "loans.columns"
   ]
  },
  {
   "cell_type": "code",
   "execution_count": null,
   "metadata": {
    "collapsed": true
   },
   "outputs": [],
   "source": [
    "loans.loan_status.value_counts()"
   ]
  },
  {
   "cell_type": "code",
   "execution_count": null,
   "metadata": {
    "collapsed": true
   },
   "outputs": [],
   "source": [
    "loans = loans[(loans.loan_status != 'Does not meet the credit policy. Status:Charged Off') & (loans.loan_status != 'Does not meet the credit policy. Status:Fully Paid')]"
   ]
  },
  {
   "cell_type": "code",
   "execution_count": null,
   "metadata": {
    "collapsed": true
   },
   "outputs": [],
   "source": [
    "loans.loan_status.value_counts()"
   ]
  },
  {
   "cell_type": "markdown",
   "metadata": {},
   "source": [
    "In grace period means less than 15 days."
   ]
  },
  {
   "cell_type": "code",
   "execution_count": null,
   "metadata": {
    "collapsed": true
   },
   "outputs": [],
   "source": [
    "# In grace period means \n",
    "#loans['defaulted'] = "
   ]
  },
  {
   "cell_type": "code",
   "execution_count": null,
   "metadata": {
    "collapsed": true
   },
   "outputs": [],
   "source": []
  },
  {
   "cell_type": "markdown",
   "metadata": {},
   "source": [
    "### For the purposes of this analysis we'll only look at loans that have had at least two years"
   ]
  },
  {
   "cell_type": "code",
   "execution_count": null,
   "metadata": {
    "collapsed": true
   },
   "outputs": [],
   "source": []
  }
 ],
 "metadata": {
  "kernelspec": {
   "display_name": "Python 2",
   "language": "python",
   "name": "python2"
  },
  "language_info": {
   "codemirror_mode": {
    "name": "ipython",
    "version": 2
   },
   "file_extension": ".py",
   "mimetype": "text/x-python",
   "name": "python",
   "nbconvert_exporter": "python",
   "pygments_lexer": "ipython2",
   "version": "2.7.13"
  }
 },
 "nbformat": 4,
 "nbformat_minor": 2
}
