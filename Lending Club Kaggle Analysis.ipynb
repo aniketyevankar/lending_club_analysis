{
 "cells": [
  {
   "cell_type": "code",
   "execution_count": null,
   "metadata": {
    "collapsed": true
   },
   "outputs": [],
   "source": [
    "import pandas as pd\n",
    "import numpy as np\n",
    "import matplotlib.pyplot as plt\n",
    "plt.style.use('fivethirtyeight')\n",
    "import seaborn as sns\n",
    "from wordcloud import WordCloud, STOPWORDS\n",
    "from datetime import datetime\n",
    "%matplotlib inline\n",
    "pd.set_option('display.max_rows', 200)"
   ]
  },
  {
   "cell_type": "code",
   "execution_count": null,
   "metadata": {},
   "outputs": [],
   "source": [
    "all_loans = pd.read_csv('./data/loans-kaggle.csv', low_memory=False)"
   ]
  },
  {
   "cell_type": "code",
   "execution_count": null,
   "metadata": {},
   "outputs": [],
   "source": [
    "all_loans.shape"
   ]
  },
  {
   "cell_type": "code",
   "execution_count": null,
   "metadata": {
    "collapsed": true
   },
   "outputs": [],
   "source": [
    "loans = all_loans.copy()"
   ]
  },
  {
   "cell_type": "code",
   "execution_count": null,
   "metadata": {},
   "outputs": [],
   "source": [
    "loans.columns"
   ]
  },
  {
   "cell_type": "markdown",
   "metadata": {},
   "source": [
    "### Lots of null values. Let's clean up the data"
   ]
  },
  {
   "cell_type": "code",
   "execution_count": null,
   "metadata": {},
   "outputs": [],
   "source": [
    "null_value_count = loans.isnull().sum().sort_values(ascending=False)"
   ]
  },
  {
   "cell_type": "code",
   "execution_count": null,
   "metadata": {
    "scrolled": true
   },
   "outputs": [],
   "source": [
    "null_value_count[null_value_count != 0]"
   ]
  },
  {
   "cell_type": "code",
   "execution_count": null,
   "metadata": {},
   "outputs": [],
   "source": [
    "loans.application_type.value_counts()"
   ]
  },
  {
   "cell_type": "code",
   "execution_count": null,
   "metadata": {},
   "outputs": [],
   "source": [
    "loans[loans.application_type == 'JOINT'].issue_d.value_counts()"
   ]
  },
  {
   "cell_type": "code",
   "execution_count": null,
   "metadata": {},
   "outputs": [],
   "source": [
    "loans[(loans.application_type == 'JOINT') & loans.dti_joint.isnull() & loans.annual_inc_joint.isnull()\n",
    "     & loans.verification_status_joint.isnull()].shape"
   ]
  },
  {
   "cell_type": "code",
   "execution_count": null,
   "metadata": {},
   "outputs": [],
   "source": [
    "# For individual applicants, set joint_dti to 0, annual_inc_joint to 0, and verification_status_joint to Not Verified\n",
    "loans[loans.application_type == 'JOINT'][['dti_joint', 'annual_inc_joint', 'verification_status_joint',\n",
    "                                         'dti', 'annual_inc', 'verification_status']]"
   ]
  },
  {
   "cell_type": "code",
   "execution_count": null,
   "metadata": {},
   "outputs": [],
   "source": [
    "loans['dti_joint'] = loans['dti_joint'].fillna(value=0.0)\n",
    "loans['annual_inc_joint'] = loans['annual_inc_joint'].fillna(value=0.0)\n",
    "loans['verification_status_joint'] = loans['verification_status_joint'].fillna(value=0.0)"
   ]
  },
  {
   "cell_type": "code",
   "execution_count": null,
   "metadata": {},
   "outputs": [],
   "source": [
    "loans.head()"
   ]
  },
  {
   "cell_type": "markdown",
   "metadata": {},
   "source": [
    "### These fields were added on December 2015 and only exist for new loans"
   ]
  },
  {
   "cell_type": "code",
   "execution_count": null,
   "metadata": {},
   "outputs": [],
   "source": [
    "dec_2015_columns = ['il_util', 'mths_since_rcnt_il', 'open_acc_6m', 'inq_last_12m', 'open_il_6m', 'open_il_12m',\n",
    "                   'open_il_24m', 'total_bal_il', 'open_rv_12m', 'open_rv_12m', 'open_rv_24m', 'max_bal_bc',\n",
    "                   'inq_fi', 'total_cu_tl', 'all_util']\n",
    "loans = loans.drop(dec_2015_columns, axis=1)"
   ]
  },
  {
   "cell_type": "code",
   "execution_count": null,
   "metadata": {
    "collapsed": true
   },
   "outputs": [],
   "source": [
    "# Description is missing for most loans\n",
    "loans = loans.drop('desc', axis=1)"
   ]
  },
  {
   "cell_type": "code",
   "execution_count": null,
   "metadata": {},
   "outputs": [],
   "source": [
    "# Public records are derogatory records such as bankruptcy, civil judgment, and tax liens\n",
    "loans[loans.mths_since_last_record.isnull() & (loans.pub_rec > 0)].shape"
   ]
  },
  {
   "cell_type": "code",
   "execution_count": null,
   "metadata": {
    "collapsed": true
   },
   "outputs": [],
   "source": [
    "# Since the other three columns for public records report 0, the months since last record should be 0\n",
    "loans.mths_since_last_record.fillna(value=0, inplace=True)"
   ]
  },
  {
   "cell_type": "code",
   "execution_count": null,
   "metadata": {},
   "outputs": [],
   "source": [
    "# mths_since_last_major_derog => the number of months since most recent 90-day or worse rating\n",
    "# delinq_2yrs => the Number of 30+ days past-due incidences of delinquency in the borrower's credit file for the past 2 years.\n",
    "# acc_now_delinq => The Number of accounts on which the borrower is now delinquent.\n",
    "loans[loans.mths_since_last_major_derog.isnull() & (loans.acc_now_delinq > 0)]['acc_now_delinq']"
   ]
  },
  {
   "cell_type": "code",
   "execution_count": null,
   "metadata": {},
   "outputs": [],
   "source": [
    "loans.mths_since_last_major_derog.value_counts()"
   ]
  },
  {
   "cell_type": "code",
   "execution_count": null,
   "metadata": {},
   "outputs": [],
   "source": [
    "loans[loans.mths_since_last_major_derog.isnull() & (loans.pub_rec == 0)].shape"
   ]
  },
  {
   "cell_type": "code",
   "execution_count": null,
   "metadata": {},
   "outputs": [],
   "source": [
    "# We'll impute the mths_since_last_major_derog by taking the mean for other values for that subgrade\n",
    "np.floor(loans[loans.sub_grade == 'D4']['mths_since_last_major_derog'].mean())"
   ]
  },
  {
   "cell_type": "code",
   "execution_count": null,
   "metadata": {},
   "outputs": [],
   "source": [
    "def print_row(row):\n",
    "    return row['sub_grade']\n",
    "\n",
    "loans[loans.mths_since_last_major_derog.isnull()].apply(print_row, axis=1)\n"
   ]
  },
  {
   "cell_type": "code",
   "execution_count": null,
   "metadata": {},
   "outputs": [],
   "source": [
    "loans.mths_since_last_major_derog.isnull().sum()"
   ]
  },
  {
   "cell_type": "code",
   "execution_count": null,
   "metadata": {},
   "outputs": [],
   "source": [
    "def impute_mths_since_last_major_derog(loans):\n",
    "    num_rows = loans.shape[0]\n",
    "    zeros = np.zeros(num_rows, dtype=int)\n",
    "    loans['mths_since_last_major_derog_imputed'] = zeros\n",
    "    \n",
    "    means = {}\n",
    "    for sub_grade in loans.sub_grade.value_counts().keys():\n",
    "        means[sub_grade] = loans[loans['sub_grade'] == sub_grade]['mths_since_last_major_derog'].mean()\n",
    "    loans.loc[loans.mths_since_last_major_derog.isnull(), 'mths_since_last_major_derog'] = loans[loans.mths_since_last_major_derog.isnull()].apply(lambda x: means[x.sub_grade], axis=1)\n",
    "    loans.loc[loans.mths_since_last_major_derog.isnull(), 'mths_since_last_major_derog_imputed'] = 1\n",
    "    return loans\n",
    "\n",
    "loans2 = impute_mths_since_last_major_derog(loans)"
   ]
  },
  {
   "cell_type": "code",
   "execution_count": null,
   "metadata": {},
   "outputs": [],
   "source": [
    "loans2.mths_since_last_major_derog_imputed.value_counts()"
   ]
  },
  {
   "cell_type": "code",
   "execution_count": null,
   "metadata": {},
   "outputs": [],
   "source": [
    "loans2.loc[loans2.mths_since_last_major_derog.isnull(), 'mths_since_last_major_derog'] = -1"
   ]
  },
  {
   "cell_type": "code",
   "execution_count": null,
   "metadata": {},
   "outputs": [],
   "source": [
    "loans2.mths_since_last_major_derog.isnull().sum()"
   ]
  },
  {
   "cell_type": "code",
   "execution_count": null,
   "metadata": {},
   "outputs": [],
   "source": [
    "loans['issue_date'] = loans.issue_d.apply(lambda x: datetime.strptime(x, '%b-%Y').date())"
   ]
  },
  {
   "cell_type": "code",
   "execution_count": null,
   "metadata": {},
   "outputs": [],
   "source": [
    "loans['year'] = loans.issue_d.apply(lambda x: x.split('-')[1])"
   ]
  },
  {
   "cell_type": "code",
   "execution_count": null,
   "metadata": {},
   "outputs": [],
   "source": [
    "loans[loans.year == '2015']['loan_status'].value_counts()"
   ]
  },
  {
   "cell_type": "code",
   "execution_count": null,
   "metadata": {},
   "outputs": [],
   "source": [
    "loans[loans.loan_status == 'Issued'].isnull().sum()"
   ]
  },
  {
   "cell_type": "code",
   "execution_count": null,
   "metadata": {},
   "outputs": [],
   "source": [
    "df.loan_status.value_counts()"
   ]
  },
  {
   "cell_type": "code",
   "execution_count": null,
   "metadata": {},
   "outputs": [],
   "source": [
    "df[df.loan_status=='Current'].issue_d.value_counts()"
   ]
  },
  {
   "cell_type": "code",
   "execution_count": null,
   "metadata": {},
   "outputs": [],
   "source": [
    "df.policy_code.value_counts()"
   ]
  },
  {
   "cell_type": "code",
   "execution_count": null,
   "metadata": {},
   "outputs": [],
   "source": [
    "df.application_type.value_counts(1)"
   ]
  },
  {
   "cell_type": "code",
   "execution_count": null,
   "metadata": {
    "collapsed": true
   },
   "outputs": [],
   "source": []
  }
 ],
 "metadata": {
  "kernelspec": {
   "display_name": "Python 2",
   "language": "python",
   "name": "python2"
  },
  "language_info": {
   "codemirror_mode": {
    "name": "ipython",
    "version": 2
   },
   "file_extension": ".py",
   "mimetype": "text/x-python",
   "name": "python",
   "nbconvert_exporter": "python",
   "pygments_lexer": "ipython2",
   "version": "2.7.13"
  }
 },
 "nbformat": 4,
 "nbformat_minor": 2
}
